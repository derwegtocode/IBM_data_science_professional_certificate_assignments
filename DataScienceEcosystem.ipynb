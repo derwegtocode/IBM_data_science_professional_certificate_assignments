{
 "cells": [
  {
   "cell_type": "markdown",
   "id": "d9087e78-b545-4733-840e-7c8c32226412",
   "metadata": {},
   "source": [
    "# Data Science Tools and Ecosystem"
   ]
  },
  {
   "cell_type": "markdown",
   "id": "5a1d1fd3-552f-46f6-b5b7-6f0d483439d0",
   "metadata": {},
   "source": [
    "In this notebook, Data Science Tools and Ecosystem are summarized."
   ]
  },
  {
   "cell_type": "markdown",
   "id": "3cb4abc1-87c0-4fe6-9415-af81a250f81e",
   "metadata": {},
   "source": [
    "**Objectives:**\n",
    "- List popular languages for Data Science\n",
    "- List commonly used libraries in Data Science\n",
    "- Create a table with Data Science tools\n",
    "- Evaluate arithmetic expressions in Python"
   ]
  },
  {
   "cell_type": "markdown",
   "id": "cd4e9201-261b-4bcb-a04a-2e63bed356b9",
   "metadata": {},
   "source": [
    "Some of the popular languages that Data Scientists use are:\n",
    "1. Python\n",
    "2. R\n",
    "3. SQL\n",
    "4. Java\n",
    "5. Scala\n",
    "6. C ++\n",
    "7. Javascript\n",
    "8. Julia"
   ]
  },
  {
   "cell_type": "markdown",
   "id": "0b11cbcb-1ce7-4664-98ef-61f8f9148c9c",
   "metadata": {},
   "source": [
    "Some of the commonly used libraries used by Data Scientists include:\n",
    "1. Pandas\n",
    "2. Numpy\n",
    "3. Matplotlib\n",
    "4. Seaborn\n",
    "5. Scikit-learn\n",
    "6. Keras\n",
    "7. Vegas\n",
    "8. BigDL\n",
    "9. Ggplot"
   ]
  },
  {
   "cell_type": "markdown",
   "id": "129455f2-a654-42f9-8bcc-b850f0ee4aa6",
   "metadata": {},
   "source": [
    "| Data Science Tools |\n",
    "| ------------------ |\n",
    "| Hadoop |\n",
    "| Hive |\n",
    "| Spark |"
   ]
  },
  {
   "cell_type": "markdown",
   "id": "e786b72b-4a8b-490b-8231-46af75f3fa12",
   "metadata": {},
   "source": [
    "### Below are a few examples of evaluating arithmetic expressions in Python"
   ]
  },
  {
   "cell_type": "code",
   "execution_count": 4,
   "id": "713a96ef-2795-4698-a55c-699d1294cdf9",
   "metadata": {},
   "outputs": [
    {
     "data": {
      "text/plain": [
       "17"
      ]
     },
     "execution_count": 4,
     "metadata": {},
     "output_type": "execute_result"
    }
   ],
   "source": [
    "# This a simple arithmetic expression to mutiply then add integers\n",
    "(3*4)+5"
   ]
  },
  {
   "cell_type": "code",
   "execution_count": 5,
   "id": "3c5c7b46-4796-4fcd-91d0-cd5353b67b06",
   "metadata": {},
   "outputs": [
    {
     "data": {
      "text/plain": [
       "3.3333333333333335"
      ]
     },
     "execution_count": 5,
     "metadata": {},
     "output_type": "execute_result"
    }
   ],
   "source": [
    "# This will convert 200 minutes to hours by diving by 60\n",
    "\n",
    "def minutes_to_hours(minutes):\n",
    "    return (minutes / 60)\n",
    "\n",
    "minutes_to_hours(200)"
   ]
  },
  {
   "cell_type": "markdown",
   "id": "6203dde9-4f67-4b60-a65a-d504fc083e84",
   "metadata": {},
   "source": [
    "## Author:\n",
    "Maria Lujan Sosa Balsa"
   ]
  },
  {
   "cell_type": "code",
   "execution_count": null,
   "id": "4432f179-0d95-4b84-9b92-ca81261f86fe",
   "metadata": {},
   "outputs": [],
   "source": []
  }
 ],
 "metadata": {
  "kernelspec": {
   "display_name": "Python 3 (ipykernel)",
   "language": "python",
   "name": "python3"
  },
  "language_info": {
   "codemirror_mode": {
    "name": "ipython",
    "version": 3
   },
   "file_extension": ".py",
   "mimetype": "text/x-python",
   "name": "python",
   "nbconvert_exporter": "python",
   "pygments_lexer": "ipython3",
   "version": "3.12.9"
  }
 },
 "nbformat": 4,
 "nbformat_minor": 5
}
